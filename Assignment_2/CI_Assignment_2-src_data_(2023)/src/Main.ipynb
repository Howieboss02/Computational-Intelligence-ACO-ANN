{
 "cells": [
  {
   "cell_type": "code",
   "execution_count": null,
   "metadata": {},
   "outputs": [],
   "source": [
    "import time\n",
    "\n",
    "from AntColonyOptimization import AntColonyOptimization\n",
    "from GeneticAlgorithm import GeneticAlgorithm\n",
    "from Maze import Maze\n",
    "from PathSpecification import PathSpecification\n",
    "from TSPData import TSPData"
   ]
  },
  {
   "cell_type": "markdown",
   "metadata": {},
   "source": [
    "### Part 1: The Travelling Robot Problem"
   ]
  },
  {
   "cell_type": "code",
   "execution_count": null,
   "metadata": {},
   "outputs": [],
   "source": [
    "# Please keep your parameters for the Genetic Algorithm easily changeable here\n",
    "population_size = 20\n",
    "generations = 20\n",
    "persist_file = \"./../data/optimal_tsp\"\n",
    "\n",
    "# Setup optimization\n",
    "tsp_data = TSPData.read_from_file(persist_file)\n",
    "ga = GeneticAlgorithm(generations, population_size)\n",
    "\n",
    "# Run optimzation and write to file\n",
    "solution = ga.solve_tsp(tsp_data)\n",
    "tsp_data.write_action_file(solution, \"./../data/tsp_solution.txt\")"
   ]
  },
  {
   "cell_type": "markdown",
   "metadata": {},
   "source": [
    "### Part 2: Path Finding Through Ant Colony Optimization"
   ]
  },
  {
   "cell_type": "code",
   "execution_count": null,
   "metadata": {},
   "outputs": [],
   "source": [
    "# Please keep your parameters for the ACO easily changeable here\n",
    "gen = 1\n",
    "no_gen = 1\n",
    "q = 1600\n",
    "evap = 0.1\n",
    "\n",
    "# Construct the optimization objects\n",
    "maze = Maze.create_maze(\"./../data/hard_maze.txt\")\n",
    "spec = PathSpecification.read_coordinates(\"./../data/hard_coordinates.txt\")\n",
    "aco = AntColonyOptimization(maze, gen, no_gen, q, evap)\n",
    "\n",
    "# Save starting time\n",
    "start_time = int(round(time.time() * 1000))\n",
    "\n",
    "# Run optimization\n",
    "shortest_route = aco.find_shortest_route(spec)\n",
    "\n",
    "# Print time taken\n",
    "print(\"Time taken: \" + str((int(round(time.time() * 1000)) - start_time) / 1000.0))\n",
    "\n",
    "# Save solution\n",
    "shortest_route.write_to_file(\"./../data/hard_solution.txt\")\n",
    "\n",
    "# Print route size\n",
    "print(\"Route size: \" + str(shortest_route.size()))"
   ]
  },
  {
   "cell_type": "markdown",
   "metadata": {},
   "source": [
    "### Synthesis"
   ]
  },
  {
   "cell_type": "code",
   "execution_count": null,
   "metadata": {},
   "outputs": [],
   "source": [
    "# Please keep your parameters for the synthesis part easily changeable here\n",
    "gen = 1\n",
    "no_gen = 1\n",
    "q = 1000\n",
    "evap = 0.1\n",
    "\n",
    "persist_file = \"./../tmp/my_tsp\"\n",
    "tsp_path = \"./../data/tsp_products.txt\"\n",
    "coordinates = \"./../data/hard_coordinates.txt\"\n",
    "\n",
    "# Construct optimization\n",
    "maze = Maze.create_maze(\"./../data/hard_maze.txt\")\n",
    "tsp_data = TSPData.read_specification(coordinates, tsp_path)\n",
    "aco = AntColonyOptimization(maze, gen, no_gen, q, evap)\n",
    "\n",
    "# Run optimization and write to file\n",
    "tsp_data.calculate_routes(aco)\n",
    "tsp_data.write_to_file(persist_file)\n",
    "\n",
    "# Read from file and print\n",
    "tsp_data2 = TSPData.read_from_file(persist_file)\n",
    "print(tsp_data == tsp_data2)\n",
    "\n",
    "# Solve TSP using your own paths file\n",
    "ga = GeneticAlgorithm(generations, population_size)\n",
    "solution = ga.solve_tsp(tsp_data2)\n",
    "tsp_data2.write_action_file(solution, \"./../data/tsp_solution.txt\")"
   ]
  }
 ],
 "metadata": {
  "kernelspec": {
   "display_name": "Python 3",
   "language": "python",
   "name": "python3"
  },
  "language_info": {
   "codemirror_mode": {
    "name": "ipython",
    "version": 3
   },
   "file_extension": ".py",
   "mimetype": "text/x-python",
   "name": "python",
   "nbconvert_exporter": "python",
   "pygments_lexer": "ipython3",
   "version": "3.9.10"
  },
  "vscode": {
   "interpreter": {
    "hash": "2469a70536e4d2335a2ea8907942d0699c37342a371ac185bdb5b0aa6f073890"
   }
  }
 },
 "nbformat": 4,
 "nbformat_minor": 2
}
