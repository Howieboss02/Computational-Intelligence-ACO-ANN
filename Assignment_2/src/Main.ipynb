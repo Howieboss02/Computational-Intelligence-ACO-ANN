{
 "cells": [
  {
   "cell_type": "code",
   "execution_count": 1,
   "metadata": {},
   "outputs": [],
   "source": [
    "import time\n",
    "\n",
    "from AntColonyOptimization import AntColonyOptimization\n",
    "from GeneticAlgorithm import GeneticAlgorithm\n",
    "from Maze import Maze\n",
    "from PathSpecification import PathSpecification\n",
    "from TSPData import TSPData"
   ]
  },
  {
   "cell_type": "markdown",
   "metadata": {},
   "source": [
    "### Part 1: The Travelling Robot Problem"
   ]
  },
  {
   "cell_type": "code",
   "execution_count": 2,
   "metadata": {},
   "outputs": [],
   "source": [
    "# Please keep your parameters for the Genetic Algorithm easily changeable here\n",
    "population_size = 20\n",
    "generations = 20\n",
    "persist_file = \"./../data/optimal_tsp\"\n",
    "\n",
    "# Setup optimization\n",
    "tsp_data = TSPData.read_from_file(persist_file)\n",
    "ga = GeneticAlgorithm(generations, population_size)\n",
    "\n",
    "# Run optimzation and write to file\n",
    "\n",
    "# solution = ga.solve_tsp(tsp_data)\n",
    "# tsp_data.write_action_file(solution, \"./../data/tsp_solution.txt\")"
   ]
  },
  {
   "cell_type": "code",
   "execution_count": 3,
   "outputs": [
    {
     "name": "stdout",
     "output_type": "stream",
     "text": [
      "[[0, 69, 698, 240, 132, 527, 156, 459, 374, 409, 599, 428, 483, 167, 425, 221, 691, 465], [69, 0, 647, 189, 81, 476, 105, 408, 323, 358, 548, 377, 432, 116, 374, 170, 640, 414], [698, 647, 0, 472, 568, 185, 596, 345, 324, 289, 105, 270, 237, 531, 283, 491, 183, 351], [240, 189, 472, 0, 110, 301, 138, 233, 148, 183, 373, 202, 257, 73, 199, 19, 465, 239], [132, 81, 568, 110, 0, 397, 36, 329, 244, 279, 469, 298, 353, 37, 295, 91, 561, 335], [527, 476, 185, 301, 397, 0, 425, 174, 153, 118, 86, 99, 66, 360, 112, 320, 178, 180], [156, 105, 596, 138, 36, 425, 0, 357, 272, 307, 497, 326, 381, 65, 323, 119, 589, 363], [459, 408, 345, 233, 329, 174, 357, 0, 85, 56, 246, 75, 130, 292, 72, 252, 338, 26], [374, 323, 324, 148, 244, 153, 272, 85, 0, 35, 225, 54, 109, 207, 51, 167, 317, 91], [409, 358, 289, 183, 279, 118, 307, 56, 35, 0, 190, 19, 74, 242, 16, 202, 282, 62], [599, 548, 105, 373, 469, 86, 497, 246, 225, 190, 0, 171, 138, 432, 184, 392, 98, 252], [428, 377, 270, 202, 298, 99, 326, 75, 54, 19, 171, 0, 55, 261, 13, 221, 263, 81], [483, 432, 237, 257, 353, 66, 381, 130, 109, 74, 138, 55, 0, 316, 68, 276, 230, 136], [167, 116, 531, 73, 37, 360, 65, 292, 207, 242, 432, 261, 316, 0, 258, 54, 524, 298], [425, 374, 283, 199, 295, 112, 323, 72, 51, 16, 184, 13, 68, 258, 0, 218, 276, 78], [221, 170, 491, 19, 91, 320, 119, 252, 167, 202, 392, 221, 276, 54, 218, 0, 484, 258], [691, 640, 183, 465, 561, 178, 589, 338, 317, 282, 98, 263, 230, 524, 276, 484, 0, 344], [465, 414, 351, 239, 335, 180, 363, 26, 91, 62, 252, 81, 136, 298, 78, 258, 344, 0]]\n",
      "[37, 32, 661, 203, 95, 490, 119, 422, 337, 372, 562, 391, 446, 130, 388, 184, 654, 428]\n",
      "[812, 761, 304, 586, 682, 299, 710, 459, 438, 403, 219, 384, 351, 645, 397, 605, 123, 465]\n"
     ]
    }
   ],
   "source": [
    "print(tsp_data.get_distances())\n",
    "print(tsp_data.get_start_distances())\n",
    "print(tsp_data.get_end_distances())"
   ],
   "metadata": {
    "collapsed": false
   }
  },
  {
   "cell_type": "code",
   "execution_count": 4,
   "outputs": [
    {
     "name": "stdout",
     "output_type": "stream",
     "text": [
      "[3 1 0 2]\n",
      "[<GeneticAlgorithm.Chromosome object at 0x000002AAE6A3A520>, <GeneticAlgorithm.Chromosome object at 0x000002AAE830C4C0>, <GeneticAlgorithm.Chromosome object at 0x000002AAE830C820>, <GeneticAlgorithm.Chromosome object at 0x000002AAE83552E0>, <GeneticAlgorithm.Chromosome object at 0x000002AAE8355FD0>, <GeneticAlgorithm.Chromosome object at 0x000002AAE8355FA0>, <GeneticAlgorithm.Chromosome object at 0x000002AAE8355A00>, <GeneticAlgorithm.Chromosome object at 0x000002AAE8355A90>, <GeneticAlgorithm.Chromosome object at 0x000002AAE8355D90>, <GeneticAlgorithm.Chromosome object at 0x000002AAE8355E80>, <GeneticAlgorithm.Chromosome object at 0x000002AAE83558B0>, <GeneticAlgorithm.Chromosome object at 0x000002AAE8355EB0>, <GeneticAlgorithm.Chromosome object at 0x000002AAE8355EE0>, <GeneticAlgorithm.Chromosome object at 0x000002AAE8355220>, <GeneticAlgorithm.Chromosome object at 0x000002AAE8358070>, <GeneticAlgorithm.Chromosome object at 0x000002AAE83586D0>, <GeneticAlgorithm.Chromosome object at 0x000002AAE8358730>, <GeneticAlgorithm.Chromosome object at 0x000002AAE8358640>, <GeneticAlgorithm.Chromosome object at 0x000002AAE83585E0>, <GeneticAlgorithm.Chromosome object at 0x000002AAE8358580>]\n",
      "[ 3  4 16  6  2  5  7 15  1  0  8 10 11 14 13  9 12 17] and score = 4867\n",
      "[12 14  2  3 15  1 11 17  5 16  4  8  7  6 13 10  9  0] and score = 5429\n",
      "[13 11 12  7  5 14  3  2 10 17  8  1 16  4  0  9  6 15] and score = 5077\n",
      "[ 8  7 15 14  9  2  0 11  1 10  4 12 17 13  6  5 16  3] and score = 6223\n",
      "[10  3  0  7  2 11 12  5 15 14  4 16  8 17  9  1  6 13] and score = 5407\n",
      "[ 3 15  0  2 10 17 14  6 11  7  5 13 12 16  9  4  8  1] and score = 5269\n",
      "[15  4  7  9 10 16  1  2 17  8  6 13  0 11  5  3 14 12] and score = 4627\n",
      "[ 3 10  9 17 12  6 14  2  4  1 16  0 11  5 15 13  8  7] and score = 5583\n",
      "[ 8  6 16  1 10 13 12 14  0 11  2 17 15  4  5  7  9  3] and score = 6421\n",
      "[12  9  3  6 11  8  4 16 10 15 13 14  0  7  1  2  5 17] and score = 5597\n",
      "[14  7 11 12  6  2  5 15 10 13  3  8 16 17  1  4  0  9] and score = 5217\n",
      "[ 1  4  8 17  3 14 15 12  2 13  5 11 10  9 16  7  6  0] and score = 4913\n",
      "[ 7  9  1 16 12  5 15 13  2  8  3 14 10  4 11  0  6 17] and score = 5711\n",
      "[ 1 12 16  9  0 11 14  5  3  2  8 10 15  4  7 17 13  6] and score = 5171\n",
      "[11  7 14  1  3 10  8 13  6  0 12  2  9 15  5 17 16  4] and score = 5425\n",
      "[ 2  6  0 13 15  1  9  7 17 14 16  5  3 10  4 11 12  8] and score = 4819\n",
      "[16 14 10 13  0  3  2 15 11  9  8  4  1  7  6 17  5 12] and score = 5241\n",
      "[16  8  7 10  5  2  3  6  0  4 11 12 15 13 17  1 14  9] and score = 4659\n",
      "[ 4  3  7 12 10 16 14  6 11  2 17  8 13  1  0  5 15  9] and score = 4285\n",
      "[16 13 15  9  8  1  2 14  0 12  7  4  5 11  6  3 10 17] and score = 6139\n",
      "[<GeneticAlgorithm.Chromosome object at 0x000002AAE8355FD0>, <GeneticAlgorithm.Chromosome object at 0x000002AAE83558B0>]\n",
      "106080\n"
     ]
    }
   ],
   "source": [
    "from GeneticAlgorithm import Chromosome\n",
    "from GeneticAlgorithm import Population\n",
    "\n",
    "chromosome = Chromosome()\n",
    "chromosome.create_chromosome(4)\n",
    "print(chromosome.products)\n",
    "distances = [\n",
    "    [0, 1, 3, 6],\n",
    "    [5, 0, 3, 2],\n",
    "    [9, 4, 0, 8],\n",
    "    [2, 6, 7 ,0]\n",
    "]\n",
    "# print(chromosome.fitness_function(distances))\n",
    "\n",
    "population = Population(0.1, 0.7, tsp_data)\n",
    "population.create_random_population(population_size, len(tsp_data.get_start_distances()))\n",
    "print(population.chromosomes)\n",
    "population.calculate_population_fitness()\n",
    "print(ga.roulette(population))\n",
    "print(population.get_fitness_sum())"
   ],
   "metadata": {
    "collapsed": false
   }
  },
  {
   "cell_type": "markdown",
   "metadata": {},
   "source": [
    "### Part 2: Path Finding Through Ant Colony Optimization"
   ]
  },
  {
   "cell_type": "code",
   "execution_count": 5,
   "metadata": {},
   "outputs": [
    {
     "name": "stdout",
     "output_type": "stream",
     "text": [
      "Ready reading maze file ./../data/hard_maze.txt\n",
      "Time taken: 0.0\n"
     ]
    },
    {
     "ename": "AttributeError",
     "evalue": "'NoneType' object has no attribute 'write_to_file'",
     "output_type": "error",
     "traceback": [
      "\u001B[1;31m---------------------------------------------------------------------------\u001B[0m",
      "\u001B[1;31mAttributeError\u001B[0m                            Traceback (most recent call last)",
      "Cell \u001B[1;32mIn[5], line 22\u001B[0m\n\u001B[0;32m     19\u001B[0m \u001B[38;5;28mprint\u001B[39m(\u001B[38;5;124m\"\u001B[39m\u001B[38;5;124mTime taken: \u001B[39m\u001B[38;5;124m\"\u001B[39m \u001B[38;5;241m+\u001B[39m \u001B[38;5;28mstr\u001B[39m((\u001B[38;5;28mint\u001B[39m(\u001B[38;5;28mround\u001B[39m(time\u001B[38;5;241m.\u001B[39mtime() \u001B[38;5;241m*\u001B[39m \u001B[38;5;241m1000\u001B[39m)) \u001B[38;5;241m-\u001B[39m start_time) \u001B[38;5;241m/\u001B[39m \u001B[38;5;241m1000.0\u001B[39m))\n\u001B[0;32m     21\u001B[0m \u001B[38;5;66;03m# Save solution\u001B[39;00m\n\u001B[1;32m---> 22\u001B[0m \u001B[43mshortest_route\u001B[49m\u001B[38;5;241;43m.\u001B[39;49m\u001B[43mwrite_to_file\u001B[49m(\u001B[38;5;124m\"\u001B[39m\u001B[38;5;124m./../data/hard_solution.txt\u001B[39m\u001B[38;5;124m\"\u001B[39m)\n\u001B[0;32m     24\u001B[0m \u001B[38;5;66;03m# Print route size\u001B[39;00m\n\u001B[0;32m     25\u001B[0m \u001B[38;5;28mprint\u001B[39m(\u001B[38;5;124m\"\u001B[39m\u001B[38;5;124mRoute size: \u001B[39m\u001B[38;5;124m\"\u001B[39m \u001B[38;5;241m+\u001B[39m \u001B[38;5;28mstr\u001B[39m(shortest_route\u001B[38;5;241m.\u001B[39msize()))\n",
      "\u001B[1;31mAttributeError\u001B[0m: 'NoneType' object has no attribute 'write_to_file'"
     ]
    }
   ],
   "source": [
    "# Please keep your parameters for the ACO easily changeable here\n",
    "gen = 1\n",
    "no_gen = 1\n",
    "q = 1600\n",
    "evap = 0.1\n",
    "\n",
    "# Construct the optimization objects\n",
    "maze = Maze.create_maze(\"./../data/hard_maze.txt\")\n",
    "spec = PathSpecification.read_coordinates(\"./../data/hard_coordinates.txt\")\n",
    "aco = AntColonyOptimization(maze, gen, no_gen, q, evap)\n",
    "\n",
    "# Save starting time\n",
    "start_time = int(round(time.time() * 1000))\n",
    "\n",
    "# Run optimization\n",
    "shortest_route = aco.find_shortest_route(spec)\n",
    "\n",
    "# Print time taken\n",
    "print(\"Time taken: \" + str((int(round(time.time() * 1000)) - start_time) / 1000.0))\n",
    "\n",
    "# Save solution\n",
    "shortest_route.write_to_file(\"./../data/hard_solution.txt\")\n",
    "\n",
    "# Print route size\n",
    "print(\"Route size: \" + str(shortest_route.size()))"
   ]
  },
  {
   "cell_type": "markdown",
   "metadata": {},
   "source": [
    "### Synthesis"
   ]
  },
  {
   "cell_type": "code",
   "execution_count": null,
   "metadata": {},
   "outputs": [],
   "source": [
    "# Please keep your parameters for the synthesis part easily changeable here\n",
    "gen = 1\n",
    "no_gen = 1\n",
    "q = 1000\n",
    "evap = 0.1\n",
    "\n",
    "persist_file = \"./../tmp/my_tsp\"\n",
    "tsp_path = \"./../data/tsp_products.txt\"\n",
    "coordinates = \"./../data/hard_coordinates.txt\"\n",
    "\n",
    "# Construct optimization\n",
    "maze = Maze.create_maze(\"./../data/hard_maze.txt\")\n",
    "tsp_data = TSPData.read_specification(coordinates, tsp_path)\n",
    "aco = AntColonyOptimization(maze, gen, no_gen, q, evap)\n",
    "\n",
    "# Run optimization and write to file\n",
    "tsp_data.calculate_routes(aco)\n",
    "tsp_data.write_to_file(persist_file)\n",
    "\n",
    "# Read from file and print\n",
    "tsp_data2 = TSPData.read_from_file(persist_file)\n",
    "print(tsp_data == tsp_data2)\n",
    "\n",
    "# Solve TSP using your own paths file\n",
    "ga = GeneticAlgorithm(generations, population_size)\n",
    "solution = ga.solve_tsp(tsp_data2)\n",
    "tsp_data2.write_action_file(solution, \"./../data/tsp_solution.txt\")"
   ]
  }
 ],
 "metadata": {
  "kernelspec": {
   "display_name": "Python 3",
   "language": "python",
   "name": "python3"
  },
  "language_info": {
   "codemirror_mode": {
    "name": "ipython",
    "version": 3
   },
   "file_extension": ".py",
   "mimetype": "text/x-python",
   "name": "python",
   "nbconvert_exporter": "python",
   "pygments_lexer": "ipython3",
   "version": "3.9.10"
  },
  "vscode": {
   "interpreter": {
    "hash": "2469a70536e4d2335a2ea8907942d0699c37342a371ac185bdb5b0aa6f073890"
   }
  }
 },
 "nbformat": 4,
 "nbformat_minor": 2
}
