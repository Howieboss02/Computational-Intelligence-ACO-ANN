{
 "cells": [
  {
   "cell_type": "code",
   "execution_count": 1,
   "metadata": {},
   "outputs": [],
   "source": [
    "import time\n",
    "\n",
    "from AntColonyOptimization import AntColonyOptimization\n",
    "from GeneticAlgorithm import GeneticAlgorithm\n",
    "from Maze import Maze\n",
    "from PathSpecification import PathSpecification\n",
    "from TSPData import TSPData"
   ]
  },
  {
   "cell_type": "markdown",
   "metadata": {},
   "source": [
    "### Part 1: The Travelling Robot Problem"
   ]
  },
  {
   "cell_type": "code",
   "execution_count": 10,
   "metadata": {},
   "outputs": [],
   "source": [
    "# Please keep your parameters for the Genetic Algorithm easily changeable here\n",
    "population_size = 20\n",
    "generations = 20\n",
    "persist_file = \"./../data/optimal_tsp\"\n",
    "\n",
    "# Setup optimization\n",
    "tsp_data = TSPData.read_from_file(persist_file)\n",
    "ga = GeneticAlgorithm(generations, population_size)\n",
    "\n",
    "# Run optimzation and write to file\n",
    "\n",
    "# solution = ga.solve_tsp(tsp_data)\n",
    "# tsp_data.write_action_file(solution, \"./../data/tsp_solution.txt\")"
   ]
  },
  {
   "cell_type": "code",
   "execution_count": 2,
   "outputs": [
    {
     "name": "stdout",
     "output_type": "stream",
     "text": [
      "[4. 2. 3. 1. 5. 6. 7.]\n"
     ]
    }
   ],
   "source": [
    "# Test OX_crossover\n",
    "from GeneticAlgorithm import Chromosome\n",
    "parent1 = Chromosome()\n",
    "parent1.set_genes([1, 2, 3, 4, 5, 6, 7])\n",
    "parent2 = Chromosome()\n",
    "parent2.set_genes([4, 3, 2, 1, 5, 6, 7])\n",
    "child = GeneticAlgorithm.OX_crossover(parent1, parent2)\n",
    "print(child.get_genes())\n",
    "# Seems to work lol"
   ],
   "metadata": {
    "collapsed": false
   }
  },
  {
   "cell_type": "code",
   "execution_count": 3,
   "outputs": [
    {
     "name": "stdout",
     "output_type": "stream",
     "text": [
      "Before mutation:  [1, 2, 3, 4, 5, 6, 7]\n",
      "After mutation:  [1, 2, 3, 4, 6, 5, 7]\n",
      "Before mutation:  [1]\n",
      "After mutation:  [1]\n"
     ]
    }
   ],
   "source": [
    "# Test inversion_mutation\n",
    "parent1 = Chromosome()\n",
    "parent1.set_genes([1, 2, 3, 4, 5, 6, 7])\n",
    "print(\"Before mutation: \", parent1.get_genes())\n",
    "parent1.inversion_mutation()\n",
    "print(\"After mutation: \", parent1.get_genes())\n",
    "\n",
    "# Test inversion with 1 gene\n",
    "parent2 = Chromosome()\n",
    "parent2.set_genes([1])\n",
    "print(\"Before mutation: \", parent2.get_genes())\n",
    "parent2.inversion_mutation()\n",
    "print(\"After mutation: \", parent2.get_genes())"
   ],
   "metadata": {
    "collapsed": false
   }
  },
  {
   "cell_type": "code",
   "execution_count": 5,
   "outputs": [
    {
     "name": "stdout",
     "output_type": "stream",
     "text": [
      "[ 1  2  3  4  5  6  7  8  9 10]\n"
     ]
    }
   ],
   "source": [
    "import numpy as np\n",
    "\n",
    "# Test inversion 1000 times (must always change)\n",
    "genes = np.arange(start=1, stop=11)\n",
    "print(genes)\n",
    "for i in range(1000):\n",
    "    chromosome = Chromosome()\n",
    "    chromosome.set_genes(genes)\n",
    "    chromosome.inversion_mutation()\n",
    "    assert not (chromosome.get_genes()==genes).all(), (print(\"Arrays shouldn't be equal \", chromosome.get_genes(), \" \", genes))"
   ],
   "metadata": {
    "collapsed": false
   }
  },
  {
   "cell_type": "code",
   "execution_count": 4,
   "outputs": [
    {
     "ename": "NameError",
     "evalue": "name 'tsp_data' is not defined",
     "output_type": "error",
     "traceback": [
      "\u001B[1;31m---------------------------------------------------------------------------\u001B[0m",
      "\u001B[1;31mNameError\u001B[0m                                 Traceback (most recent call last)",
      "\u001B[1;32m~\\AppData\\Local\\Temp\\ipykernel_22752\\975175987.py\u001B[0m in \u001B[0;36m<module>\u001B[1;34m\u001B[0m\n\u001B[1;32m----> 1\u001B[1;33m \u001B[0mprint\u001B[0m\u001B[1;33m(\u001B[0m\u001B[0mtsp_data\u001B[0m\u001B[1;33m.\u001B[0m\u001B[0mget_distances\u001B[0m\u001B[1;33m(\u001B[0m\u001B[1;33m)\u001B[0m\u001B[1;33m)\u001B[0m\u001B[1;33m\u001B[0m\u001B[1;33m\u001B[0m\u001B[0m\n\u001B[0m\u001B[0;32m      2\u001B[0m \u001B[0mprint\u001B[0m\u001B[1;33m(\u001B[0m\u001B[0mtsp_data\u001B[0m\u001B[1;33m.\u001B[0m\u001B[0mget_start_distances\u001B[0m\u001B[1;33m(\u001B[0m\u001B[1;33m)\u001B[0m\u001B[1;33m)\u001B[0m\u001B[1;33m\u001B[0m\u001B[1;33m\u001B[0m\u001B[0m\n\u001B[0;32m      3\u001B[0m \u001B[0mprint\u001B[0m\u001B[1;33m(\u001B[0m\u001B[0mtsp_data\u001B[0m\u001B[1;33m.\u001B[0m\u001B[0mget_start_distances\u001B[0m\u001B[1;33m(\u001B[0m\u001B[1;33m)\u001B[0m\u001B[1;33m)\u001B[0m\u001B[1;33m\u001B[0m\u001B[1;33m\u001B[0m\u001B[0m\n",
      "\u001B[1;31mNameError\u001B[0m: name 'tsp_data' is not defined"
     ]
    }
   ],
   "source": [
    "print(tsp_data.get_distances())\n",
    "print(tsp_data.get_start_distances())\n",
    "print(tsp_data.get_start_distances())"
   ],
   "metadata": {
    "collapsed": false
   }
  },
  {
   "cell_type": "markdown",
   "metadata": {},
   "source": [
    "### Part 2: Path Finding Through Ant Colony Optimization"
   ]
  },
  {
   "cell_type": "code",
   "execution_count": 2,
   "metadata": {},
   "outputs": [
    {
     "name": "stdout",
     "output_type": "stream",
     "text": [
      "Ready reading maze file ./../data/hard_maze.txt\n",
      "generation:  0 , best route:  1001 , avg route:  1211.98\n",
      "generation:  1 , best route:  1017 , avg route:  1202.38\n",
      "generation:  2 , best route:  951 , avg route:  1205.8\n",
      "generation:  3 , best route:  951 , avg route:  1185.9\n",
      "generation:  4 , best route:  901 , avg route:  1195.28\n",
      "generation:  5 , best route:  1005 , avg route:  1177.98\n",
      "generation:  6 , best route:  993 , avg route:  1168.88\n",
      "generation:  7 , best route:  913 , avg route:  1176.7\n",
      "generation:  8 , best route:  973 , avg route:  1180.76\n",
      "generation:  9 , best route:  957 , avg route:  1194.2\n",
      "generation:  10 , best route:  971 , avg route:  1183.92\n",
      "generation:  11 , best route:  951 , avg route:  1148.94\n",
      "generation:  12 , best route:  925 , avg route:  1163.84\n",
      "generation:  13 , best route:  965 , avg route:  1162.88\n",
      "generation:  14 , best route:  975 , avg route:  1172.46\n",
      "generation:  15 , best route:  951 , avg route:  1185.84\n",
      "generation:  16 , best route:  945 , avg route:  1180.16\n",
      "generation:  17 , best route:  963 , avg route:  1170.54\n",
      "generation:  18 , best route:  955 , avg route:  1185.7\n",
      "generation:  19 , best route:  993 , avg route:  1197.54\n",
      "Time taken: 170.984\n",
      "Route size: 921\n"
     ]
    }
   ],
   "source": [
    "# Please keep your parameters for the ACO easily changeable here\n",
    "no_ants = 100\n",
    "no_gen = 20\n",
    "q = 1600\n",
    "evap = 0.1\n",
    "max_steps = 1000000\n",
    "\n",
    "# Construct the optimization objects\n",
    "maze = Maze.create_maze(\"./../data/medium_maze.txt\")\n",
    "spec = PathSpecification.read_coordinates(\"./../data/medium_coordinates.txt\")\n",
    "aco = AntColonyOptimization(maze, no_ants, no_gen, q, evap, max_steps)\n",
    "\n",
    "# Save starting time\n",
    "start_time = int(round(time.time() * 1000))\n",
    "\n",
    "# Run optimization\n",
    "shortest_route = aco.find_shortest_route(spec)\n",
    "\n",
    "# Print time taken\n",
    "print(\"Time taken: \" + str((int(round(time.time() * 1000)) - start_time) / 1000.0))\n",
    "\n",
    "# Save solution\n",
    "shortest_route.write_to_file(\"./../data/medium_solution.txt\")\n",
    "\n",
    "# Print route size\n",
    "print(\"Route size: \" + str(shortest_route.size()))"
   ]
  },
  {
   "cell_type": "markdown",
   "metadata": {},
   "source": [
    "### Synthesis"
   ]
  },
  {
   "cell_type": "code",
   "execution_count": null,
   "metadata": {},
   "outputs": [],
   "source": [
    "# Please keep your parameters for the synthesis part easily changeable here\n",
    "gen = 1\n",
    "no_gen = 1\n",
    "q = 1000\n",
    "evap = 0.1\n",
    "\n",
    "persist_file = \"./../tmp/my_tsp\"\n",
    "tsp_path = \"./../data/tsp_products.txt\"\n",
    "coordinates = \"./../data/hard_coordinates.txt\"\n",
    "\n",
    "# Construct optimization\n",
    "maze = Maze.create_maze(\"./../data/hard_maze.txt\")\n",
    "tsp_data = TSPData.read_specification(coordinates, tsp_path)\n",
    "aco = AntColonyOptimization(maze, gen, no_gen, q, evap)\n",
    "\n",
    "# Run optimization and write to file\n",
    "tsp_data.calculate_routes(aco)\n",
    "tsp_data.write_to_file(persist_file)\n",
    "\n",
    "# Read from file and print\n",
    "tsp_data2 = TSPData.read_from_file(persist_file)\n",
    "print(tsp_data == tsp_data2)\n",
    "\n",
    "# Solve TSP using your own paths file\n",
    "ga = GeneticAlgorithm(generations, population_size)\n",
    "solution = ga.solve_tsp(tsp_data2)\n",
    "tsp_data2.write_action_file(solution, \"./../data/tsp_solution.txt\")"
   ]
  }
 ],
 "metadata": {
  "kernelspec": {
   "display_name": "Python 3",
   "language": "python",
   "name": "python3"
  },
  "language_info": {
   "codemirror_mode": {
    "name": "ipython",
    "version": 3
   },
   "file_extension": ".py",
   "mimetype": "text/x-python",
   "name": "python",
   "nbconvert_exporter": "python",
   "pygments_lexer": "ipython3",
   "version": "3.9.6"
  },
  "vscode": {
   "interpreter": {
    "hash": "2469a70536e4d2335a2ea8907942d0699c37342a371ac185bdb5b0aa6f073890"
   }
  }
 },
 "nbformat": 4,
 "nbformat_minor": 2
}
