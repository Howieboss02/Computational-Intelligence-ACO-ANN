{
 "cells": [
  {
   "cell_type": "code",
   "execution_count": null,
   "metadata": {},
   "outputs": [],
   "source": [
    "from Maze import Maze\n",
    "from Agent import Agent\n",
    "from MyQLearning import MyQLearning\n",
    "from MyEGreedy import MyEGreedy"
   ]
  },
  {
   "cell_type": "code",
   "execution_count": null,
   "metadata": {},
   "outputs": [],
   "source": [
    "# Load the maze\n",
    "file = \"../data/toy_maze.txt\"\n",
    "maze = Maze(file)\n",
    "\n",
    "# Set the reward at the bottom right to 10\n",
    "maze.set_reward(maze.get_state(9, 9), 10)\n",
    "\n",
    "# Create a robot at starting and reset location (0,0) (top left)\n",
    "robot = Agent(0, 0)\n",
    "\n",
    "# Make a selection object (you need to implement the methods in this class)\n",
    "selection = MyEGreedy()\n",
    "\n",
    "# Make a Qlearning object (you need to implement the methods in this class)\n",
    "learn = MyQLearning()\n",
    "\n",
    "stop = False\n",
    "\n",
    "# keep learning until you decide to stop\n",
    "while not stop:\n",
    "    pass\n",
    "    # TODO implement the action selection and learning cycle\n",
    "    # TODO figure out a stopping criterion"
   ]
  }
 ],
 "metadata": {
  "kernelspec": {
   "display_name": "Python 3",
   "language": "python",
   "name": "python3"
  },
  "language_info": {
   "name": "python",
   "version": "3.9.10 (tags/v3.9.10:f2f3f53, Jan 17 2022, 15:14:21) [MSC v.1929 64 bit (AMD64)]"
  },
  "orig_nbformat": 4,
  "vscode": {
   "interpreter": {
    "hash": "2469a70536e4d2335a2ea8907942d0699c37342a371ac185bdb5b0aa6f073890"
   }
  }
 },
 "nbformat": 4,
 "nbformat_minor": 2
}
